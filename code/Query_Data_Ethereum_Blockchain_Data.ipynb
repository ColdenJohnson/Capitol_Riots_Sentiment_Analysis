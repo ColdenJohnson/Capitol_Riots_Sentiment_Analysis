{
  "nbformat": 4,
  "nbformat_minor": 0,
  "metadata": {
    "colab": {
      "provenance": []
    },
    "kernelspec": {
      "name": "python3",
      "display_name": "Python 3"
    },
    "language_info": {
      "name": "python"
    },
    "gpuClass": "standard"
  },
  "cells": [
    {
      "cell_type": "markdown",
      "source": [
        "References: https://github.com/blockchain-etl/ethereum-etl"
      ],
      "metadata": {
        "id": "OgpllVSE7kmW"
      }
    },
    {
      "cell_type": "markdown",
      "source": [
        "# Part I: Install and Import Required Dependancies"
      ],
      "metadata": {
        "id": "vRFxzzOM7nbV"
      }
    },
    {
      "cell_type": "code",
      "execution_count": 1,
      "metadata": {
        "colab": {
          "base_uri": "https://localhost:8080/"
        },
        "id": "nFuttmHw7WHS",
        "outputId": "8330441d-5ac2-445a-88cd-fd3b24aca2b4"
      },
      "outputs": [
        {
          "output_type": "stream",
          "name": "stdout",
          "text": [
            "Looking in indexes: https://pypi.org/simple, https://us-python.pkg.dev/colab-wheels/public/simple/\n",
            "Collecting ethereum-etl\n",
            "  Downloading ethereum-etl-2.1.1.tar.gz (336 kB)\n",
            "\u001b[K     |████████████████████████████████| 336 kB 16.8 MB/s \n",
            "\u001b[?25hRequirement already satisfied: pandas in /usr/local/lib/python3.7/dist-packages (1.3.5)\n",
            "Collecting web3<6,>=5.29\n",
            "  Downloading web3-5.31.1-py3-none-any.whl (501 kB)\n",
            "\u001b[K     |████████████████████████████████| 501 kB 33.3 MB/s \n",
            "\u001b[?25hCollecting eth-utils==1.10\n",
            "  Downloading eth_utils-1.10.0-py3-none-any.whl (24 kB)\n",
            "Collecting eth-abi==2.1.1\n",
            "  Downloading eth_abi-2.1.1-py3-none-any.whl (27 kB)\n",
            "Requirement already satisfied: python-dateutil<3,>=2.8.0 in /usr/local/lib/python3.7/dist-packages (from ethereum-etl) (2.8.2)\n",
            "Collecting click==8.0.4\n",
            "  Downloading click-8.0.4-py3-none-any.whl (97 kB)\n",
            "\u001b[K     |████████████████████████████████| 97 kB 3.4 MB/s \n",
            "\u001b[?25hCollecting ethereum-dasm==0.1.4\n",
            "  Downloading ethereum_dasm-0.1.4-py3-none-any.whl (44 kB)\n",
            "\u001b[K     |████████████████████████████████| 44 kB 1.7 MB/s \n",
            "\u001b[?25hCollecting base58\n",
            "  Downloading base58-2.1.1-py3-none-any.whl (5.6 kB)\n",
            "Requirement already satisfied: requests in /usr/local/lib/python3.7/dist-packages (from ethereum-etl) (2.23.0)\n",
            "Requirement already satisfied: importlib-metadata in /usr/local/lib/python3.7/dist-packages (from click==8.0.4->ethereum-etl) (4.13.0)\n",
            "Collecting parsimonious<0.9.0,>=0.8.0\n",
            "  Downloading parsimonious-0.8.1.tar.gz (45 kB)\n",
            "\u001b[K     |████████████████████████████████| 45 kB 1.9 MB/s \n",
            "\u001b[?25hCollecting eth-typing<3.0.0,>=2.0.0\n",
            "  Downloading eth_typing-2.3.0-py3-none-any.whl (6.2 kB)\n",
            "Collecting eth-hash<0.4.0,>=0.3.1\n",
            "  Downloading eth_hash-0.3.3-py3-none-any.whl (8.9 kB)\n",
            "Collecting cytoolz<1.0.0,>=0.10.1\n",
            "  Downloading cytoolz-0.12.0-cp37-cp37m-manylinux_2_17_x86_64.manylinux2014_x86_64.whl (1.6 MB)\n",
            "\u001b[K     |████████████████████████████████| 1.6 MB 46.9 MB/s \n",
            "\u001b[?25hCollecting evmdasm\n",
            "  Downloading evmdasm-0.1.10-py3-none-any.whl (14 kB)\n",
            "Requirement already satisfied: tabulate in /usr/local/lib/python3.7/dist-packages (from ethereum-dasm==0.1.4->ethereum-etl) (0.8.10)\n",
            "Collecting colorama\n",
            "  Downloading colorama-0.4.6-py2.py3-none-any.whl (25 kB)\n",
            "Requirement already satisfied: toolz>=0.8.0 in /usr/local/lib/python3.7/dist-packages (from cytoolz<1.0.0,>=0.10.1->eth-utils==1.10->ethereum-etl) (0.12.0)\n",
            "Requirement already satisfied: six>=1.9.0 in /usr/local/lib/python3.7/dist-packages (from parsimonious<0.9.0,>=0.8.0->eth-abi==2.1.1->ethereum-etl) (1.15.0)\n",
            "Collecting protobuf==3.19.5\n",
            "  Downloading protobuf-3.19.5-cp37-cp37m-manylinux_2_17_x86_64.manylinux2014_x86_64.whl (1.1 MB)\n",
            "\u001b[K     |████████████████████████████████| 1.1 MB 36.6 MB/s \n",
            "\u001b[?25hCollecting eth-hash[pycryptodome]<1.0.0,>=0.2.0\n",
            "  Downloading eth_hash-0.5.1-py3-none-any.whl (9.0 kB)\n",
            "Requirement already satisfied: typing-extensions<5,>=3.7.4.1 in /usr/local/lib/python3.7/dist-packages (from web3<6,>=5.29->ethereum-etl) (4.1.1)\n",
            "Collecting ipfshttpclient==0.8.0a2\n",
            "  Downloading ipfshttpclient-0.8.0a2-py3-none-any.whl (82 kB)\n",
            "\u001b[K     |████████████████████████████████| 82 kB 460 kB/s \n",
            "\u001b[?25hCollecting websockets<10,>=9.1\n",
            "  Downloading websockets-9.1-cp37-cp37m-manylinux2010_x86_64.whl (103 kB)\n",
            "\u001b[K     |████████████████████████████████| 103 kB 57.1 MB/s \n",
            "\u001b[?25hCollecting lru-dict<2.0.0,>=1.1.6\n",
            "  Downloading lru_dict-1.1.8-cp37-cp37m-manylinux_2_5_x86_64.manylinux1_x86_64.manylinux_2_17_x86_64.manylinux2014_x86_64.whl (26 kB)\n",
            "Collecting eth-rlp<0.3\n",
            "  Downloading eth_rlp-0.2.1-py3-none-any.whl (5.0 kB)\n",
            "Collecting eth-account<0.6.0,>=0.5.9\n",
            "  Downloading eth_account-0.5.9-py3-none-any.whl (101 kB)\n",
            "\u001b[K     |████████████████████████████████| 101 kB 8.4 MB/s \n",
            "\u001b[?25hCollecting hexbytes<1.0.0,>=0.1.0\n",
            "  Downloading hexbytes-0.3.0-py3-none-any.whl (6.4 kB)\n",
            "Requirement already satisfied: jsonschema<5,>=3.2.0 in /usr/local/lib/python3.7/dist-packages (from web3<6,>=5.29->ethereum-etl) (4.3.3)\n",
            "Requirement already satisfied: aiohttp<4,>=3.7.4.post0 in /usr/local/lib/python3.7/dist-packages (from web3<6,>=5.29->ethereum-etl) (3.8.3)\n",
            "Collecting multiaddr>=0.0.7\n",
            "  Downloading multiaddr-0.0.9-py2.py3-none-any.whl (16 kB)\n",
            "Requirement already satisfied: multidict<7.0,>=4.5 in /usr/local/lib/python3.7/dist-packages (from aiohttp<4,>=3.7.4.post0->web3<6,>=5.29->ethereum-etl) (6.0.2)\n",
            "Requirement already satisfied: frozenlist>=1.1.1 in /usr/local/lib/python3.7/dist-packages (from aiohttp<4,>=3.7.4.post0->web3<6,>=5.29->ethereum-etl) (1.3.3)\n",
            "Requirement already satisfied: attrs>=17.3.0 in /usr/local/lib/python3.7/dist-packages (from aiohttp<4,>=3.7.4.post0->web3<6,>=5.29->ethereum-etl) (22.1.0)\n",
            "Requirement already satisfied: aiosignal>=1.1.2 in /usr/local/lib/python3.7/dist-packages (from aiohttp<4,>=3.7.4.post0->web3<6,>=5.29->ethereum-etl) (1.3.1)\n",
            "Requirement already satisfied: yarl<2.0,>=1.0 in /usr/local/lib/python3.7/dist-packages (from aiohttp<4,>=3.7.4.post0->web3<6,>=5.29->ethereum-etl) (1.8.1)\n",
            "Requirement already satisfied: async-timeout<5.0,>=4.0.0a3 in /usr/local/lib/python3.7/dist-packages (from aiohttp<4,>=3.7.4.post0->web3<6,>=5.29->ethereum-etl) (4.0.2)\n",
            "Requirement already satisfied: charset-normalizer<3.0,>=2.0 in /usr/local/lib/python3.7/dist-packages (from aiohttp<4,>=3.7.4.post0->web3<6,>=5.29->ethereum-etl) (2.1.1)\n",
            "Requirement already satisfied: asynctest==0.13.0 in /usr/local/lib/python3.7/dist-packages (from aiohttp<4,>=3.7.4.post0->web3<6,>=5.29->ethereum-etl) (0.13.0)\n",
            "Collecting eth-keyfile<0.6.0,>=0.5.0\n",
            "  Downloading eth_keyfile-0.5.1-py3-none-any.whl (8.3 kB)\n",
            "Collecting rlp<3,>=1.0.0\n",
            "  Downloading rlp-2.0.1-py2.py3-none-any.whl (20 kB)\n",
            "Collecting eth-keys<0.4.0,>=0.3.4\n",
            "  Downloading eth_keys-0.3.4-py3-none-any.whl (21 kB)\n",
            "Collecting bitarray<3,>=1.2.1\n",
            "  Downloading bitarray-2.6.0-cp37-cp37m-manylinux_2_17_x86_64.manylinux2014_x86_64.whl (235 kB)\n",
            "\u001b[K     |████████████████████████████████| 235 kB 44.7 MB/s \n",
            "\u001b[?25hCollecting eth-hash[pycryptodome]<1.0.0,>=0.2.0\n",
            "  Downloading eth_hash-0.5.0-py3-none-any.whl (8.9 kB)\n",
            "  Downloading eth_hash-0.4.0-py3-none-any.whl (9.0 kB)\n",
            "Collecting pycryptodome<4,>=3.6.6\n",
            "  Downloading pycryptodome-3.16.0-cp35-abi3-manylinux_2_5_x86_64.manylinux1_x86_64.manylinux_2_12_x86_64.manylinux2010_x86_64.whl (2.3 MB)\n",
            "\u001b[K     |████████████████████████████████| 2.3 MB 25.9 MB/s \n",
            "\u001b[?25hRequirement already satisfied: pyrsistent!=0.17.0,!=0.17.1,!=0.17.2,>=0.14.0 in /usr/local/lib/python3.7/dist-packages (from jsonschema<5,>=3.2.0->web3<6,>=5.29->ethereum-etl) (0.19.2)\n",
            "Requirement already satisfied: importlib-resources>=1.4.0 in /usr/local/lib/python3.7/dist-packages (from jsonschema<5,>=3.2.0->web3<6,>=5.29->ethereum-etl) (5.10.0)\n",
            "Requirement already satisfied: zipp>=3.1.0 in /usr/local/lib/python3.7/dist-packages (from importlib-resources>=1.4.0->jsonschema<5,>=3.2.0->web3<6,>=5.29->ethereum-etl) (3.10.0)\n",
            "Collecting netaddr\n",
            "  Downloading netaddr-0.8.0-py2.py3-none-any.whl (1.9 MB)\n",
            "\u001b[K     |████████████████████████████████| 1.9 MB 15.3 MB/s \n",
            "\u001b[?25hCollecting varint\n",
            "  Downloading varint-1.0.2.tar.gz (1.9 kB)\n",
            "Requirement already satisfied: idna<3,>=2.5 in /usr/local/lib/python3.7/dist-packages (from requests->ethereum-etl) (2.10)\n",
            "Requirement already satisfied: certifi>=2017.4.17 in /usr/local/lib/python3.7/dist-packages (from requests->ethereum-etl) (2022.9.24)\n",
            "Requirement already satisfied: chardet<4,>=3.0.2 in /usr/local/lib/python3.7/dist-packages (from requests->ethereum-etl) (3.0.4)\n",
            "Requirement already satisfied: urllib3!=1.25.0,!=1.25.1,<1.26,>=1.21.1 in /usr/local/lib/python3.7/dist-packages (from requests->ethereum-etl) (1.24.3)\n",
            "Requirement already satisfied: numpy>=1.17.3 in /usr/local/lib/python3.7/dist-packages (from pandas) (1.21.6)\n",
            "Requirement already satisfied: pytz>=2017.3 in /usr/local/lib/python3.7/dist-packages (from pandas) (2022.6)\n",
            "Building wheels for collected packages: ethereum-etl, parsimonious, varint\n",
            "  Building wheel for ethereum-etl (setup.py) ... \u001b[?25l\u001b[?25hdone\n",
            "  Created wheel for ethereum-etl: filename=ethereum_etl-2.1.1-py3-none-any.whl size=438799 sha256=cba9593c8aa26d9345f85fdd0977e6a942b1883353e30f8fa946f1860ea84800\n",
            "  Stored in directory: /root/.cache/pip/wheels/58/a3/4c/99f11663d9e8a07aa7fa3581096509202c016391e03a9009dd\n",
            "  Building wheel for parsimonious (setup.py) ... \u001b[?25l\u001b[?25hdone\n",
            "  Created wheel for parsimonious: filename=parsimonious-0.8.1-py3-none-any.whl size=42725 sha256=244704cb3835b2efdcf16b99f018975df7806346c1b0e9bc2c1c6e763ac0058b\n",
            "  Stored in directory: /root/.cache/pip/wheels/88/5d/ba/f27d8af07306b65ee44f9d3f9cadea1db749a421a6db8a99bf\n",
            "  Building wheel for varint (setup.py) ... \u001b[?25l\u001b[?25hdone\n",
            "  Created wheel for varint: filename=varint-1.0.2-py3-none-any.whl size=1978 sha256=6fa3e5a734c12cfa5a38bfae4148236e20d2bc8d0d1364b38dd8beb272e0552b\n",
            "  Stored in directory: /root/.cache/pip/wheels/69/21/07/09f1c6a7d9b59377aa6d98da6efdd670f7ca40aabd93d02704\n",
            "Successfully built ethereum-etl parsimonious varint\n",
            "Installing collected packages: eth-typing, eth-hash, cytoolz, eth-utils, varint, rlp, pycryptodome, parsimonious, netaddr, hexbytes, eth-keys, base58, multiaddr, eth-rlp, eth-keyfile, eth-abi, bitarray, websockets, protobuf, lru-dict, ipfshttpclient, evmdasm, eth-account, colorama, web3, ethereum-dasm, click, ethereum-etl\n",
            "  Attempting uninstall: protobuf\n",
            "    Found existing installation: protobuf 3.19.6\n",
            "    Uninstalling protobuf-3.19.6:\n",
            "      Successfully uninstalled protobuf-3.19.6\n",
            "  Attempting uninstall: click\n",
            "    Found existing installation: click 7.1.2\n",
            "    Uninstalling click-7.1.2:\n",
            "      Successfully uninstalled click-7.1.2\n",
            "\u001b[31mERROR: pip's dependency resolver does not currently take into account all the packages that are installed. This behaviour is the source of the following dependency conflicts.\n",
            "flask 1.1.4 requires click<8.0,>=5.1, but you have click 8.0.4 which is incompatible.\u001b[0m\n",
            "Successfully installed base58-2.1.1 bitarray-2.6.0 click-8.0.4 colorama-0.4.6 cytoolz-0.12.0 eth-abi-2.1.1 eth-account-0.5.9 eth-hash-0.3.3 eth-keyfile-0.5.1 eth-keys-0.3.4 eth-rlp-0.2.1 eth-typing-2.3.0 eth-utils-1.10.0 ethereum-dasm-0.1.4 ethereum-etl-2.1.1 evmdasm-0.1.10 hexbytes-0.3.0 ipfshttpclient-0.8.0a2 lru-dict-1.1.8 multiaddr-0.0.9 netaddr-0.8.0 parsimonious-0.8.1 protobuf-3.19.5 pycryptodome-3.16.0 rlp-2.0.1 varint-1.0.2 web3-5.31.1 websockets-9.1\n"
          ]
        }
      ],
      "source": [
        "# install ethereum-etl and pandas\n",
        "!python -m pip install ethereum-etl pandas"
      ]
    },
    {
      "cell_type": "code",
      "source": [
        "# import libraries to print data frame\n",
        "import pandas as pd"
      ],
      "metadata": {
        "id": "dE6wyGLmAtIr"
      },
      "execution_count": 9,
      "outputs": []
    },
    {
      "cell_type": "markdown",
      "source": [
        "# Part II: Mount Google Drive for Result Exports"
      ],
      "metadata": {
        "id": "tj8gVFiv7z96"
      }
    },
    {
      "cell_type": "code",
      "source": [
        "# mount google drive\n",
        "from google.colab import drive\n",
        "\n",
        "drive.mount('/content/drive')"
      ],
      "metadata": {
        "colab": {
          "base_uri": "https://localhost:8080/"
        },
        "id": "wC7DJKHt7uU7",
        "outputId": "49f17455-dddb-44dd-a6d3-b54e8ba1792d"
      },
      "execution_count": 2,
      "outputs": [
        {
          "output_type": "stream",
          "name": "stdout",
          "text": [
            "Mounted at /content/drive\n"
          ]
        }
      ]
    },
    {
      "cell_type": "code",
      "source": [
        "# print the current directory\n",
        "!pwd"
      ],
      "metadata": {
        "colab": {
          "base_uri": "https://localhost:8080/"
        },
        "id": "zvb8F7mn73_T",
        "outputId": "1aa6864f-440c-45af-8aaa-d3bb94bca186"
      },
      "execution_count": 3,
      "outputs": [
        {
          "output_type": "stream",
          "name": "stdout",
          "text": [
            "/content\n"
          ]
        }
      ]
    },
    {
      "cell_type": "code",
      "source": [
        "\n",
        "#@title path\n",
        "#create a project folder and identify the path\n",
        "path = \"/content/drive/MyDrive/EthereumETL\" #@param {type:\"string\"}"
      ],
      "metadata": {
        "id": "a6IFIP6G8GV8"
      },
      "execution_count": 4,
      "outputs": []
    },
    {
      "cell_type": "code",
      "source": [
        "#go to your project folder \n",
        "%cd /content/drive/MyDrive/EthereumETL"
      ],
      "metadata": {
        "colab": {
          "base_uri": "https://localhost:8080/"
        },
        "id": "mPkkSpa88LI_",
        "outputId": "b14bf0ee-6607-41ee-fda5-c6acdedc02c0"
      },
      "execution_count": 5,
      "outputs": [
        {
          "output_type": "stream",
          "name": "stdout",
          "text": [
            "/content/drive/MyDrive/EthereumETL\n"
          ]
        }
      ]
    },
    {
      "cell_type": "code",
      "source": [
        "# print the current directory again to make sure that you are in the project folder\n",
        "!pwd"
      ],
      "metadata": {
        "colab": {
          "base_uri": "https://localhost:8080/"
        },
        "id": "BGDX196N8Nlt",
        "outputId": "f01a967c-3e94-47c2-eb6c-88aa699fef1a"
      },
      "execution_count": 6,
      "outputs": [
        {
          "output_type": "stream",
          "name": "stdout",
          "text": [
            "/content/drive/MyDrive/EthereumETL\n"
          ]
        }
      ]
    },
    {
      "cell_type": "markdown",
      "source": [
        "# Part III: Query Data and Export CSV"
      ],
      "metadata": {
        "id": "os5uEnmn8SH1"
      }
    },
    {
      "cell_type": "markdown",
      "source": [
        "## 3.0.1 Register Accounts on Remote Nodes Service and Get the URLs of the Nodes\n",
        "\n",
        "\n",
        "\n",
        "*   Try different data providers for availability and validation\n",
        "\n",
        "\n"
      ],
      "metadata": {
        "id": "nfFEESRU8YhE"
      }
    },
    {
      "cell_type": "markdown",
      "source": [
        "## 3.0.2 Define the Data Range by Block"
      ],
      "metadata": {
        "id": "W5eVHYgT9luU"
      }
    },
    {
      "cell_type": "code",
      "source": [
        "#@title Define the start of the data range\n",
        "start = 14650515 #@param {type:\"number\"}\n"
      ],
      "metadata": {
        "id": "p2gVRdXL-GAc"
      },
      "execution_count": 7,
      "outputs": []
    },
    {
      "cell_type": "code",
      "source": [
        "#@title Define the end of the data range\n",
        "end = 14713964 #@param {type:\"number\"}\n"
      ],
      "metadata": {
        "id": "lSXZiYC8-LvP"
      },
      "execution_count": 8,
      "outputs": []
    },
    {
      "cell_type": "markdown",
      "source": [
        "\n",
        "## 3.1. Remote node option 1: Infura\n",
        "!!! Important Notes: Please replace https://mainnet.infura.io/v3/API_KEY with your own endpoints for all the codes below"
      ],
      "metadata": {
        "id": "URB4t1_d8cY3"
      }
    },
    {
      "cell_type": "code",
      "source": [
        "#@title Import using the Infura node\n",
        "infura_end_points_URL = \"https://mainnet.infura.io/v3/API_KEY\" #@param {type:\"string\"}"
      ],
      "metadata": {
        "id": "U4m1who28PX1"
      },
      "execution_count": null,
      "outputs": []
    },
    {
      "cell_type": "code",
      "source": [
        "!ethereumetl export_blocks_and_transactions --start-block 14650515 --end-block 14713964 --blocks-output blocks.csv --provider-uri https://mainnet.infura.io/v3/API_KEY"
      ],
      "metadata": {
        "id": "YqM1Lcae--rw"
      },
      "execution_count": null,
      "outputs": []
    },
    {
      "cell_type": "code",
      "source": [
        "# set to print the maximum numbers of rows\n",
        "pd.set_option('display.max_rows', None)"
      ],
      "metadata": {
        "id": "cMUtxQXP_v5T"
      },
      "execution_count": null,
      "outputs": []
    },
    {
      "cell_type": "code",
      "source": [
        "df_blocks = pd.read_csv('./blocks.csv')\n",
        "display(df_blocks.head(10))"
      ],
      "metadata": {
        "id": "KVUibbga_xQS"
      },
      "execution_count": null,
      "outputs": []
    },
    {
      "cell_type": "markdown",
      "source": [
        "## 3.2. Remote node option 2: Alchemy\n"
      ],
      "metadata": {
        "id": "crqeMm-a9MDq"
      }
    },
    {
      "cell_type": "code",
      "source": [
        "#@title import using Alchemy\n",
        "alchemy_end_points_URL = \"https://eth-mainnet.g.alchemy.com/v2/API_KEY\" #@param {type:\"string\"}"
      ],
      "metadata": {
        "id": "_5Kf6IEh9TqO"
      },
      "execution_count": null,
      "outputs": []
    },
    {
      "cell_type": "code",
      "source": [
        "!ethereumetl export_blocks_and_transactions --start-block 15537293 --end-block 15537493 --blocks-output blocks_alchemy.csv --provider-uri https://eth-mainnet.g.alchemy.com/v2/API_KEY\n"
      ],
      "metadata": {
        "id": "bhrsROLP_sCs"
      },
      "execution_count": null,
      "outputs": []
    },
    {
      "cell_type": "code",
      "source": [
        "# set to print the maximum numbers of rows\n",
        "pd.set_option('display.max_rows', None)"
      ],
      "metadata": {
        "id": "-s-kvcP8_W_5"
      },
      "execution_count": null,
      "outputs": []
    },
    {
      "cell_type": "code",
      "source": [
        "df_blocks = pd.read_csv('./blocks.csv')\n",
        "display(df_blocks.head(10))"
      ],
      "metadata": {
        "id": "8iWoVj0M_ZUJ"
      },
      "execution_count": null,
      "outputs": []
    },
    {
      "cell_type": "markdown",
      "source": [
        "## 3.3. Remote node option 3: QuickNode\n"
      ],
      "metadata": {
        "id": "ryhvlNl59UdY"
      }
    },
    {
      "cell_type": "code",
      "source": [
        "#@title import using QuickNode\n",
        "QuickNode_end_points_URL = \"https://indulgent-cold-energy.discover.quiknode.pro/API_KEY\" #@param {type:\"string\"}\n"
      ],
      "metadata": {
        "id": "s0AfSPVE_1b3"
      },
      "execution_count": null,
      "outputs": []
    },
    {
      "cell_type": "code",
      "source": [
        "!ethereumetl export_blocks_and_transactions --start-block 15537293 --end-block 15537493 --blocks-output blocks_QuickNode.csv --provider-uri https://indulgent-cold-energy.discover.quiknode.pro/API_KEY"
      ],
      "metadata": {
        "id": "YTWIVjQr_p7j"
      },
      "execution_count": null,
      "outputs": []
    },
    {
      "cell_type": "code",
      "source": [
        "df_blocks_QuickNode = pd.read_csv('./blocks_QuickNode.csv')\n",
        "display(df_blocks_QuickNode.head(10))"
      ],
      "metadata": {
        "id": "1xDDGvaV_0sN"
      },
      "execution_count": null,
      "outputs": []
    },
    {
      "cell_type": "code",
      "source": [
        "df_blocks = pd.read_csv('./blocks.csv')\n",
        "display(df_blocks.head(10))"
      ],
      "metadata": {
        "id": "XBL107qhADAN"
      },
      "execution_count": null,
      "outputs": []
    },
    {
      "cell_type": "markdown",
      "source": [
        "# Part IV: Save the Necessary Queried Data"
      ],
      "metadata": {
        "id": "ed4IVvSIAHeC"
      }
    },
    {
      "cell_type": "markdown",
      "source": [
        "## 4.1. read the data into Panda DataFrame"
      ],
      "metadata": {
        "id": "HQ7OBCweBm36"
      }
    },
    {
      "cell_type": "code",
      "source": [
        "df_blocks = pd.read_csv('./blocks.csv')\n",
        "display(df_blocks.head(10))"
      ],
      "metadata": {
        "colab": {
          "base_uri": "https://localhost:8080/",
          "height": 427
        },
        "id": "TE0kPchIAnx_",
        "outputId": "be462bfb-8148-4e58-9aff-7f75f56a7fc6"
      },
      "execution_count": 10,
      "outputs": [
        {
          "output_type": "display_data",
          "data": {
            "text/plain": [
              "     number                                               hash  \\\n",
              "0  14650615  0xf608efc5aad134ca65076b84c355a7eb82cc2e011fe5...   \n",
              "1  14650616  0x77fcda1ff21e9d00dcb60ccab6904f07c29ebb36c41e...   \n",
              "2  14650617  0x803da8ec007ef9390dd9057bd3ac79a05fb940f2d369...   \n",
              "3  14650618  0xfdb21ae9fc762538ca3a2e412e41b20d37d4841c18bb...   \n",
              "4  14650619  0xe08b18ab86f947ff9e17147109cea4a21d08ca31e2c3...   \n",
              "5  14650620  0x7721f10d7eeda4a21de7be3dd4aecfde20e904efbfde...   \n",
              "6  14650621  0x668c45bfd6eaaa1d0d6cd035b0516786cd9bfbe9dff4...   \n",
              "7  14650622  0x4c0f2e4a154fad09722b5fe897a9d2a4ffe39c1f87ae...   \n",
              "8  14650623  0x2f2f507cf966dd73149995c811bb936a4cbd8d8c8e5e...   \n",
              "9  14650624  0xcaddd0d611d47deee3c8c8335a9ef42087910fee276e...   \n",
              "\n",
              "                                         parent_hash               nonce  \\\n",
              "0  0xac0ebd22bb6373c9665d0beb5dd9da90e3a9f165935a...  0x747c5f6a528523e8   \n",
              "1  0xf608efc5aad134ca65076b84c355a7eb82cc2e011fe5...  0xc0570cc775fd1f15   \n",
              "2  0x77fcda1ff21e9d00dcb60ccab6904f07c29ebb36c41e...  0x6036edfcc8017df6   \n",
              "3  0x803da8ec007ef9390dd9057bd3ac79a05fb940f2d369...  0xa251d51ace353e00   \n",
              "4  0xfdb21ae9fc762538ca3a2e412e41b20d37d4841c18bb...  0xc84be4358697299d   \n",
              "5  0xe08b18ab86f947ff9e17147109cea4a21d08ca31e2c3...  0x280d3e97e891be05   \n",
              "6  0x7721f10d7eeda4a21de7be3dd4aecfde20e904efbfde...  0xdedc50f58f63f47c   \n",
              "7  0x668c45bfd6eaaa1d0d6cd035b0516786cd9bfbe9dff4...  0xd192fe908593ba4b   \n",
              "8  0x4c0f2e4a154fad09722b5fe897a9d2a4ffe39c1f87ae...  0xfea1caf00e6f2bc4   \n",
              "9  0x2f2f507cf966dd73149995c811bb936a4cbd8d8c8e5e...  0x2f8f22fab23a3373   \n",
              "\n",
              "                                         sha3_uncles  \\\n",
              "0  0x1dcc4de8dec75d7aab85b567b6ccd41ad312451b948a...   \n",
              "1  0x1dcc4de8dec75d7aab85b567b6ccd41ad312451b948a...   \n",
              "2  0x1dcc4de8dec75d7aab85b567b6ccd41ad312451b948a...   \n",
              "3  0x1dcc4de8dec75d7aab85b567b6ccd41ad312451b948a...   \n",
              "4  0x1dcc4de8dec75d7aab85b567b6ccd41ad312451b948a...   \n",
              "5  0x1dcc4de8dec75d7aab85b567b6ccd41ad312451b948a...   \n",
              "6  0x1dcc4de8dec75d7aab85b567b6ccd41ad312451b948a...   \n",
              "7  0x1dcc4de8dec75d7aab85b567b6ccd41ad312451b948a...   \n",
              "8  0x1dcc4de8dec75d7aab85b567b6ccd41ad312451b948a...   \n",
              "9  0x0078c2c659f5d3cb86c6816da26213993fd5b842879d...   \n",
              "\n",
              "                                          logs_bloom  \\\n",
              "0  0x10224000001040131000000a82111201200080a20000...   \n",
              "1  0x7bbb72af795cfc97d2fe7feebebffbece2272fad68fb...   \n",
              "2  0x7e7ed1eed6875cf1f5eabffeea9bf3fb99c3faaba19c...   \n",
              "3  0x7bfcc3efe932d6addaaf25f4a1b253bd61e2dfbb3d3c...   \n",
              "4  0xf73cc7e651575f175af32ddab4d8db398176defd17fc...   \n",
              "5  0x76b8209270807205a04b01549194e003210182040050...   \n",
              "6  0x29ac6e1179055a0dc0f10c0880999925540090fa0d38...   \n",
              "7  0x9a7d47dc6d5e5cb5cda7f70df59e41227646009a6ee8...   \n",
              "8  0xd03823da7189dde5d9a020e4ae09523a1872439da3bd...   \n",
              "9  0x41280300228440c1408b231c810135100058118010c2...   \n",
              "\n",
              "                                   transactions_root  \\\n",
              "0  0xd8fb988be886520c95f779d4103edddeca75b06bac9f...   \n",
              "1  0xd624f16c5a108866e2c736e837ef94e21d8a1fb6afc8...   \n",
              "2  0xf99e0e38bc241602e68c8391fe31fd5825c25a68f437...   \n",
              "3  0x54dc99deec786dfe9544ed9e7dc7c9f9467c111c5583...   \n",
              "4  0x2d45c19a136c1bd1f045de77f2d45f551c762cb2bb02...   \n",
              "5  0x51fa3a9476a139e60c9cc1f14d412601f0a742d3b60d...   \n",
              "6  0x05bc0cd98dc8c5368ee107b07df47eab3e3c2ff1ad6d...   \n",
              "7  0x08c147a88393dd44c301d18edd002cbaf9a6c3002051...   \n",
              "8  0xcf0f9c73df770d543d2f4c8879fee11f226e6f8375db...   \n",
              "9  0x54f70660818812f271c723535e2a46836fbda42eb446...   \n",
              "\n",
              "                                          state_root  \\\n",
              "0  0xc787939df4730f3d4e6086a6f60cca918a3304dacf67...   \n",
              "1  0x69c76783a41e4ffaefa782721d8e5163eb0cf22a9f0a...   \n",
              "2  0x0993075d16948b46e8202908544df208f8f61d0a23d6...   \n",
              "3  0x2669999f241c16b6bef232acd14d249db8809c7aa235...   \n",
              "4  0x6ecadf4842d2b26ee4512798e11dc7fab0c95a6d5773...   \n",
              "5  0x4020c9bc24483b0bd9af00d49b7fa6220e68e979ba15...   \n",
              "6  0xf18652bc77f5452027edada304d8169fef8b0b4c4276...   \n",
              "7  0xd3e7549923f96c15cd07de68d3265b59b5cbe4915a14...   \n",
              "8  0x2b367b8af032f096f561e7ff99f784f4693a8305d767...   \n",
              "9  0x1b604b1118573ea5af6ea93a303049220449d0d59a33...   \n",
              "\n",
              "                                       receipts_root  \\\n",
              "0  0xa46135912d977c9547e00ed9f936fb34f7fade70ea2a...   \n",
              "1  0x71480404c62f1f96dec6657f2cc65f02d44b830a7418...   \n",
              "2  0x29563fde2488839d3aa7ca006b8c28d878a444094c9c...   \n",
              "3  0xb061c19092dbed634ab0bae22b3352b8d789cf217457...   \n",
              "4  0xb7ba3b263b46caea71d6c048ba94e89fec690328c74a...   \n",
              "5  0x0835c755f3a2bba1aae1d3bf0d756d6b6b6231244e93...   \n",
              "6  0x4c41c1904aba0608aa6df368367ecb3c19623ce73354...   \n",
              "7  0x27913554e116e344a68cb3355cd23fd29d84373e52f8...   \n",
              "8  0x699fb6942775deea3d18854fb3a36584c02f0453974c...   \n",
              "9  0x7b3d2f3365206f7c5071612146a94b72655b50cde1f9...   \n",
              "\n",
              "                                        miner         difficulty  \\\n",
              "0  0x6ebaf477f83e055589c1188bcc6ddccd8c9b131a  13715839180557147   \n",
              "1  0xea674fdde714fd979de3edf0f56aa9716b898ec8  13722673806610500   \n",
              "2  0x2daa35962a6d43eb54c48367b33d0b379c930e5e  13696009148285436   \n",
              "3  0xea674fdde714fd979de3edf0f56aa9716b898ec8  13702834091705844   \n",
              "4  0xea674fdde714fd979de3edf0f56aa9716b898ec8  13702971530659316   \n",
              "5  0x1ad91ee08f21be3de0ba2ba6918e714da6b45836  13703108969612788   \n",
              "6  0x646db8ffc21e7ddc2b6327448dd9fa560df41087  13709937379742828   \n",
              "7  0x7f101fe45e6649a6fb8f3f8b43ed03d353f2b90c  13716769124057502   \n",
              "8  0xea674fdde714fd979de3edf0f56aa9716b898ec8  13716906563010974   \n",
              "9  0xc365c3315cf926351ccaf13fa7d19c8c4058c8e1  13717044001964446   \n",
              "\n",
              "          total_difficulty    size  \\\n",
              "0  47243692966739826644960   18366   \n",
              "1  47243706689413633255460  134266   \n",
              "2  47243720385422781540896  129130   \n",
              "3  47243734088256873246740  204489   \n",
              "4  47243747791228403906056  216900   \n",
              "5  47243761494337373518844   11165   \n",
              "6  47243775204274753261672   63738   \n",
              "7  47243788921043877319174   87972   \n",
              "8  47243802637950440330148  106424   \n",
              "9  47243816354994442294594   33827   \n",
              "\n",
              "                                          extra_data  gas_limit  gas_used  \\\n",
              "0   0xd683010a11846765746886676f312e3138856c696e7578   29970705   3788742   \n",
              "1                         0x617369612d65617374322d39   29999972  29979945   \n",
              "2           0x706f6f6c696e2e636f6d1eb7daa9bf8a14d9a1   29970677  29962455   \n",
              "3                   0x6575726f70652d6e6f727468312d34   29999944  29979756   \n",
              "4                     0x6575726f70652d77657374312d33   30000000  23281823   \n",
              "5                               0x486976656f6e20686b   30000000   2211907   \n",
              "6         0x4d696e656420427920416e74506f6f6c20303037   29970705  15765035   \n",
              "7  0x466c6578706f6f6c2f53622f4445202d204265696a69...   29999972  19662451   \n",
              "8                         0x617369612d65617374322d31   30029267  19592129   \n",
              "9  0x4555312f706f6f6c2e62696e616e63652e636f6d2f00...   29999943   6826884   \n",
              "\n",
              "    timestamp  transaction_count  base_fee_per_gas  \n",
              "0  1650846161                 47       36898011808  \n",
              "1  1650846163                344       33451874474  \n",
              "2  1650846215                350       37627775938  \n",
              "3  1650846222                296       42328667591  \n",
              "4  1650846236                210       47612629933  \n",
              "5  1650846245                 25       50898624713  \n",
              "6  1650846247                128       45474488493  \n",
              "7  1650846255                204       45770241352  \n",
              "8  1650846267                205       47548594248  \n",
              "9  1650846283                 91       49360605736  "
            ],
            "text/html": [
              "\n",
              "  <div id=\"df-5e7ca563-4462-48fe-8a02-be02a5418c84\">\n",
              "    <div class=\"colab-df-container\">\n",
              "      <div>\n",
              "<style scoped>\n",
              "    .dataframe tbody tr th:only-of-type {\n",
              "        vertical-align: middle;\n",
              "    }\n",
              "\n",
              "    .dataframe tbody tr th {\n",
              "        vertical-align: top;\n",
              "    }\n",
              "\n",
              "    .dataframe thead th {\n",
              "        text-align: right;\n",
              "    }\n",
              "</style>\n",
              "<table border=\"1\" class=\"dataframe\">\n",
              "  <thead>\n",
              "    <tr style=\"text-align: right;\">\n",
              "      <th></th>\n",
              "      <th>number</th>\n",
              "      <th>hash</th>\n",
              "      <th>parent_hash</th>\n",
              "      <th>nonce</th>\n",
              "      <th>sha3_uncles</th>\n",
              "      <th>logs_bloom</th>\n",
              "      <th>transactions_root</th>\n",
              "      <th>state_root</th>\n",
              "      <th>receipts_root</th>\n",
              "      <th>miner</th>\n",
              "      <th>difficulty</th>\n",
              "      <th>total_difficulty</th>\n",
              "      <th>size</th>\n",
              "      <th>extra_data</th>\n",
              "      <th>gas_limit</th>\n",
              "      <th>gas_used</th>\n",
              "      <th>timestamp</th>\n",
              "      <th>transaction_count</th>\n",
              "      <th>base_fee_per_gas</th>\n",
              "    </tr>\n",
              "  </thead>\n",
              "  <tbody>\n",
              "    <tr>\n",
              "      <th>0</th>\n",
              "      <td>14650615</td>\n",
              "      <td>0xf608efc5aad134ca65076b84c355a7eb82cc2e011fe5...</td>\n",
              "      <td>0xac0ebd22bb6373c9665d0beb5dd9da90e3a9f165935a...</td>\n",
              "      <td>0x747c5f6a528523e8</td>\n",
              "      <td>0x1dcc4de8dec75d7aab85b567b6ccd41ad312451b948a...</td>\n",
              "      <td>0x10224000001040131000000a82111201200080a20000...</td>\n",
              "      <td>0xd8fb988be886520c95f779d4103edddeca75b06bac9f...</td>\n",
              "      <td>0xc787939df4730f3d4e6086a6f60cca918a3304dacf67...</td>\n",
              "      <td>0xa46135912d977c9547e00ed9f936fb34f7fade70ea2a...</td>\n",
              "      <td>0x6ebaf477f83e055589c1188bcc6ddccd8c9b131a</td>\n",
              "      <td>13715839180557147</td>\n",
              "      <td>47243692966739826644960</td>\n",
              "      <td>18366</td>\n",
              "      <td>0xd683010a11846765746886676f312e3138856c696e7578</td>\n",
              "      <td>29970705</td>\n",
              "      <td>3788742</td>\n",
              "      <td>1650846161</td>\n",
              "      <td>47</td>\n",
              "      <td>36898011808</td>\n",
              "    </tr>\n",
              "    <tr>\n",
              "      <th>1</th>\n",
              "      <td>14650616</td>\n",
              "      <td>0x77fcda1ff21e9d00dcb60ccab6904f07c29ebb36c41e...</td>\n",
              "      <td>0xf608efc5aad134ca65076b84c355a7eb82cc2e011fe5...</td>\n",
              "      <td>0xc0570cc775fd1f15</td>\n",
              "      <td>0x1dcc4de8dec75d7aab85b567b6ccd41ad312451b948a...</td>\n",
              "      <td>0x7bbb72af795cfc97d2fe7feebebffbece2272fad68fb...</td>\n",
              "      <td>0xd624f16c5a108866e2c736e837ef94e21d8a1fb6afc8...</td>\n",
              "      <td>0x69c76783a41e4ffaefa782721d8e5163eb0cf22a9f0a...</td>\n",
              "      <td>0x71480404c62f1f96dec6657f2cc65f02d44b830a7418...</td>\n",
              "      <td>0xea674fdde714fd979de3edf0f56aa9716b898ec8</td>\n",
              "      <td>13722673806610500</td>\n",
              "      <td>47243706689413633255460</td>\n",
              "      <td>134266</td>\n",
              "      <td>0x617369612d65617374322d39</td>\n",
              "      <td>29999972</td>\n",
              "      <td>29979945</td>\n",
              "      <td>1650846163</td>\n",
              "      <td>344</td>\n",
              "      <td>33451874474</td>\n",
              "    </tr>\n",
              "    <tr>\n",
              "      <th>2</th>\n",
              "      <td>14650617</td>\n",
              "      <td>0x803da8ec007ef9390dd9057bd3ac79a05fb940f2d369...</td>\n",
              "      <td>0x77fcda1ff21e9d00dcb60ccab6904f07c29ebb36c41e...</td>\n",
              "      <td>0x6036edfcc8017df6</td>\n",
              "      <td>0x1dcc4de8dec75d7aab85b567b6ccd41ad312451b948a...</td>\n",
              "      <td>0x7e7ed1eed6875cf1f5eabffeea9bf3fb99c3faaba19c...</td>\n",
              "      <td>0xf99e0e38bc241602e68c8391fe31fd5825c25a68f437...</td>\n",
              "      <td>0x0993075d16948b46e8202908544df208f8f61d0a23d6...</td>\n",
              "      <td>0x29563fde2488839d3aa7ca006b8c28d878a444094c9c...</td>\n",
              "      <td>0x2daa35962a6d43eb54c48367b33d0b379c930e5e</td>\n",
              "      <td>13696009148285436</td>\n",
              "      <td>47243720385422781540896</td>\n",
              "      <td>129130</td>\n",
              "      <td>0x706f6f6c696e2e636f6d1eb7daa9bf8a14d9a1</td>\n",
              "      <td>29970677</td>\n",
              "      <td>29962455</td>\n",
              "      <td>1650846215</td>\n",
              "      <td>350</td>\n",
              "      <td>37627775938</td>\n",
              "    </tr>\n",
              "    <tr>\n",
              "      <th>3</th>\n",
              "      <td>14650618</td>\n",
              "      <td>0xfdb21ae9fc762538ca3a2e412e41b20d37d4841c18bb...</td>\n",
              "      <td>0x803da8ec007ef9390dd9057bd3ac79a05fb940f2d369...</td>\n",
              "      <td>0xa251d51ace353e00</td>\n",
              "      <td>0x1dcc4de8dec75d7aab85b567b6ccd41ad312451b948a...</td>\n",
              "      <td>0x7bfcc3efe932d6addaaf25f4a1b253bd61e2dfbb3d3c...</td>\n",
              "      <td>0x54dc99deec786dfe9544ed9e7dc7c9f9467c111c5583...</td>\n",
              "      <td>0x2669999f241c16b6bef232acd14d249db8809c7aa235...</td>\n",
              "      <td>0xb061c19092dbed634ab0bae22b3352b8d789cf217457...</td>\n",
              "      <td>0xea674fdde714fd979de3edf0f56aa9716b898ec8</td>\n",
              "      <td>13702834091705844</td>\n",
              "      <td>47243734088256873246740</td>\n",
              "      <td>204489</td>\n",
              "      <td>0x6575726f70652d6e6f727468312d34</td>\n",
              "      <td>29999944</td>\n",
              "      <td>29979756</td>\n",
              "      <td>1650846222</td>\n",
              "      <td>296</td>\n",
              "      <td>42328667591</td>\n",
              "    </tr>\n",
              "    <tr>\n",
              "      <th>4</th>\n",
              "      <td>14650619</td>\n",
              "      <td>0xe08b18ab86f947ff9e17147109cea4a21d08ca31e2c3...</td>\n",
              "      <td>0xfdb21ae9fc762538ca3a2e412e41b20d37d4841c18bb...</td>\n",
              "      <td>0xc84be4358697299d</td>\n",
              "      <td>0x1dcc4de8dec75d7aab85b567b6ccd41ad312451b948a...</td>\n",
              "      <td>0xf73cc7e651575f175af32ddab4d8db398176defd17fc...</td>\n",
              "      <td>0x2d45c19a136c1bd1f045de77f2d45f551c762cb2bb02...</td>\n",
              "      <td>0x6ecadf4842d2b26ee4512798e11dc7fab0c95a6d5773...</td>\n",
              "      <td>0xb7ba3b263b46caea71d6c048ba94e89fec690328c74a...</td>\n",
              "      <td>0xea674fdde714fd979de3edf0f56aa9716b898ec8</td>\n",
              "      <td>13702971530659316</td>\n",
              "      <td>47243747791228403906056</td>\n",
              "      <td>216900</td>\n",
              "      <td>0x6575726f70652d77657374312d33</td>\n",
              "      <td>30000000</td>\n",
              "      <td>23281823</td>\n",
              "      <td>1650846236</td>\n",
              "      <td>210</td>\n",
              "      <td>47612629933</td>\n",
              "    </tr>\n",
              "    <tr>\n",
              "      <th>5</th>\n",
              "      <td>14650620</td>\n",
              "      <td>0x7721f10d7eeda4a21de7be3dd4aecfde20e904efbfde...</td>\n",
              "      <td>0xe08b18ab86f947ff9e17147109cea4a21d08ca31e2c3...</td>\n",
              "      <td>0x280d3e97e891be05</td>\n",
              "      <td>0x1dcc4de8dec75d7aab85b567b6ccd41ad312451b948a...</td>\n",
              "      <td>0x76b8209270807205a04b01549194e003210182040050...</td>\n",
              "      <td>0x51fa3a9476a139e60c9cc1f14d412601f0a742d3b60d...</td>\n",
              "      <td>0x4020c9bc24483b0bd9af00d49b7fa6220e68e979ba15...</td>\n",
              "      <td>0x0835c755f3a2bba1aae1d3bf0d756d6b6b6231244e93...</td>\n",
              "      <td>0x1ad91ee08f21be3de0ba2ba6918e714da6b45836</td>\n",
              "      <td>13703108969612788</td>\n",
              "      <td>47243761494337373518844</td>\n",
              "      <td>11165</td>\n",
              "      <td>0x486976656f6e20686b</td>\n",
              "      <td>30000000</td>\n",
              "      <td>2211907</td>\n",
              "      <td>1650846245</td>\n",
              "      <td>25</td>\n",
              "      <td>50898624713</td>\n",
              "    </tr>\n",
              "    <tr>\n",
              "      <th>6</th>\n",
              "      <td>14650621</td>\n",
              "      <td>0x668c45bfd6eaaa1d0d6cd035b0516786cd9bfbe9dff4...</td>\n",
              "      <td>0x7721f10d7eeda4a21de7be3dd4aecfde20e904efbfde...</td>\n",
              "      <td>0xdedc50f58f63f47c</td>\n",
              "      <td>0x1dcc4de8dec75d7aab85b567b6ccd41ad312451b948a...</td>\n",
              "      <td>0x29ac6e1179055a0dc0f10c0880999925540090fa0d38...</td>\n",
              "      <td>0x05bc0cd98dc8c5368ee107b07df47eab3e3c2ff1ad6d...</td>\n",
              "      <td>0xf18652bc77f5452027edada304d8169fef8b0b4c4276...</td>\n",
              "      <td>0x4c41c1904aba0608aa6df368367ecb3c19623ce73354...</td>\n",
              "      <td>0x646db8ffc21e7ddc2b6327448dd9fa560df41087</td>\n",
              "      <td>13709937379742828</td>\n",
              "      <td>47243775204274753261672</td>\n",
              "      <td>63738</td>\n",
              "      <td>0x4d696e656420427920416e74506f6f6c20303037</td>\n",
              "      <td>29970705</td>\n",
              "      <td>15765035</td>\n",
              "      <td>1650846247</td>\n",
              "      <td>128</td>\n",
              "      <td>45474488493</td>\n",
              "    </tr>\n",
              "    <tr>\n",
              "      <th>7</th>\n",
              "      <td>14650622</td>\n",
              "      <td>0x4c0f2e4a154fad09722b5fe897a9d2a4ffe39c1f87ae...</td>\n",
              "      <td>0x668c45bfd6eaaa1d0d6cd035b0516786cd9bfbe9dff4...</td>\n",
              "      <td>0xd192fe908593ba4b</td>\n",
              "      <td>0x1dcc4de8dec75d7aab85b567b6ccd41ad312451b948a...</td>\n",
              "      <td>0x9a7d47dc6d5e5cb5cda7f70df59e41227646009a6ee8...</td>\n",
              "      <td>0x08c147a88393dd44c301d18edd002cbaf9a6c3002051...</td>\n",
              "      <td>0xd3e7549923f96c15cd07de68d3265b59b5cbe4915a14...</td>\n",
              "      <td>0x27913554e116e344a68cb3355cd23fd29d84373e52f8...</td>\n",
              "      <td>0x7f101fe45e6649a6fb8f3f8b43ed03d353f2b90c</td>\n",
              "      <td>13716769124057502</td>\n",
              "      <td>47243788921043877319174</td>\n",
              "      <td>87972</td>\n",
              "      <td>0x466c6578706f6f6c2f53622f4445202d204265696a69...</td>\n",
              "      <td>29999972</td>\n",
              "      <td>19662451</td>\n",
              "      <td>1650846255</td>\n",
              "      <td>204</td>\n",
              "      <td>45770241352</td>\n",
              "    </tr>\n",
              "    <tr>\n",
              "      <th>8</th>\n",
              "      <td>14650623</td>\n",
              "      <td>0x2f2f507cf966dd73149995c811bb936a4cbd8d8c8e5e...</td>\n",
              "      <td>0x4c0f2e4a154fad09722b5fe897a9d2a4ffe39c1f87ae...</td>\n",
              "      <td>0xfea1caf00e6f2bc4</td>\n",
              "      <td>0x1dcc4de8dec75d7aab85b567b6ccd41ad312451b948a...</td>\n",
              "      <td>0xd03823da7189dde5d9a020e4ae09523a1872439da3bd...</td>\n",
              "      <td>0xcf0f9c73df770d543d2f4c8879fee11f226e6f8375db...</td>\n",
              "      <td>0x2b367b8af032f096f561e7ff99f784f4693a8305d767...</td>\n",
              "      <td>0x699fb6942775deea3d18854fb3a36584c02f0453974c...</td>\n",
              "      <td>0xea674fdde714fd979de3edf0f56aa9716b898ec8</td>\n",
              "      <td>13716906563010974</td>\n",
              "      <td>47243802637950440330148</td>\n",
              "      <td>106424</td>\n",
              "      <td>0x617369612d65617374322d31</td>\n",
              "      <td>30029267</td>\n",
              "      <td>19592129</td>\n",
              "      <td>1650846267</td>\n",
              "      <td>205</td>\n",
              "      <td>47548594248</td>\n",
              "    </tr>\n",
              "    <tr>\n",
              "      <th>9</th>\n",
              "      <td>14650624</td>\n",
              "      <td>0xcaddd0d611d47deee3c8c8335a9ef42087910fee276e...</td>\n",
              "      <td>0x2f2f507cf966dd73149995c811bb936a4cbd8d8c8e5e...</td>\n",
              "      <td>0x2f8f22fab23a3373</td>\n",
              "      <td>0x0078c2c659f5d3cb86c6816da26213993fd5b842879d...</td>\n",
              "      <td>0x41280300228440c1408b231c810135100058118010c2...</td>\n",
              "      <td>0x54f70660818812f271c723535e2a46836fbda42eb446...</td>\n",
              "      <td>0x1b604b1118573ea5af6ea93a303049220449d0d59a33...</td>\n",
              "      <td>0x7b3d2f3365206f7c5071612146a94b72655b50cde1f9...</td>\n",
              "      <td>0xc365c3315cf926351ccaf13fa7d19c8c4058c8e1</td>\n",
              "      <td>13717044001964446</td>\n",
              "      <td>47243816354994442294594</td>\n",
              "      <td>33827</td>\n",
              "      <td>0x4555312f706f6f6c2e62696e616e63652e636f6d2f00...</td>\n",
              "      <td>29999943</td>\n",
              "      <td>6826884</td>\n",
              "      <td>1650846283</td>\n",
              "      <td>91</td>\n",
              "      <td>49360605736</td>\n",
              "    </tr>\n",
              "  </tbody>\n",
              "</table>\n",
              "</div>\n",
              "      <button class=\"colab-df-convert\" onclick=\"convertToInteractive('df-5e7ca563-4462-48fe-8a02-be02a5418c84')\"\n",
              "              title=\"Convert this dataframe to an interactive table.\"\n",
              "              style=\"display:none;\">\n",
              "        \n",
              "  <svg xmlns=\"http://www.w3.org/2000/svg\" height=\"24px\"viewBox=\"0 0 24 24\"\n",
              "       width=\"24px\">\n",
              "    <path d=\"M0 0h24v24H0V0z\" fill=\"none\"/>\n",
              "    <path d=\"M18.56 5.44l.94 2.06.94-2.06 2.06-.94-2.06-.94-.94-2.06-.94 2.06-2.06.94zm-11 1L8.5 8.5l.94-2.06 2.06-.94-2.06-.94L8.5 2.5l-.94 2.06-2.06.94zm10 10l.94 2.06.94-2.06 2.06-.94-2.06-.94-.94-2.06-.94 2.06-2.06.94z\"/><path d=\"M17.41 7.96l-1.37-1.37c-.4-.4-.92-.59-1.43-.59-.52 0-1.04.2-1.43.59L10.3 9.45l-7.72 7.72c-.78.78-.78 2.05 0 2.83L4 21.41c.39.39.9.59 1.41.59.51 0 1.02-.2 1.41-.59l7.78-7.78 2.81-2.81c.8-.78.8-2.07 0-2.86zM5.41 20L4 18.59l7.72-7.72 1.47 1.35L5.41 20z\"/>\n",
              "  </svg>\n",
              "      </button>\n",
              "      \n",
              "  <style>\n",
              "    .colab-df-container {\n",
              "      display:flex;\n",
              "      flex-wrap:wrap;\n",
              "      gap: 12px;\n",
              "    }\n",
              "\n",
              "    .colab-df-convert {\n",
              "      background-color: #E8F0FE;\n",
              "      border: none;\n",
              "      border-radius: 50%;\n",
              "      cursor: pointer;\n",
              "      display: none;\n",
              "      fill: #1967D2;\n",
              "      height: 32px;\n",
              "      padding: 0 0 0 0;\n",
              "      width: 32px;\n",
              "    }\n",
              "\n",
              "    .colab-df-convert:hover {\n",
              "      background-color: #E2EBFA;\n",
              "      box-shadow: 0px 1px 2px rgba(60, 64, 67, 0.3), 0px 1px 3px 1px rgba(60, 64, 67, 0.15);\n",
              "      fill: #174EA6;\n",
              "    }\n",
              "\n",
              "    [theme=dark] .colab-df-convert {\n",
              "      background-color: #3B4455;\n",
              "      fill: #D2E3FC;\n",
              "    }\n",
              "\n",
              "    [theme=dark] .colab-df-convert:hover {\n",
              "      background-color: #434B5C;\n",
              "      box-shadow: 0px 1px 3px 1px rgba(0, 0, 0, 0.15);\n",
              "      filter: drop-shadow(0px 1px 2px rgba(0, 0, 0, 0.3));\n",
              "      fill: #FFFFFF;\n",
              "    }\n",
              "  </style>\n",
              "\n",
              "      <script>\n",
              "        const buttonEl =\n",
              "          document.querySelector('#df-5e7ca563-4462-48fe-8a02-be02a5418c84 button.colab-df-convert');\n",
              "        buttonEl.style.display =\n",
              "          google.colab.kernel.accessAllowed ? 'block' : 'none';\n",
              "\n",
              "        async function convertToInteractive(key) {\n",
              "          const element = document.querySelector('#df-5e7ca563-4462-48fe-8a02-be02a5418c84');\n",
              "          const dataTable =\n",
              "            await google.colab.kernel.invokeFunction('convertToInteractive',\n",
              "                                                     [key], {});\n",
              "          if (!dataTable) return;\n",
              "\n",
              "          const docLinkHtml = 'Like what you see? Visit the ' +\n",
              "            '<a target=\"_blank\" href=https://colab.research.google.com/notebooks/data_table.ipynb>data table notebook</a>'\n",
              "            + ' to learn more about interactive tables.';\n",
              "          element.innerHTML = '';\n",
              "          dataTable['output_type'] = 'display_data';\n",
              "          await google.colab.output.renderOutput(dataTable, element);\n",
              "          const docLink = document.createElement('div');\n",
              "          docLink.innerHTML = docLinkHtml;\n",
              "          element.appendChild(docLink);\n",
              "        }\n",
              "      </script>\n",
              "    </div>\n",
              "  </div>\n",
              "  "
            ]
          },
          "metadata": {}
        }
      ]
    },
    {
      "cell_type": "markdown",
      "source": [
        "## 4.2. Keep only the variables needed"
      ],
      "metadata": {
        "id": "cY3jI67uBqot"
      }
    },
    {
      "cell_type": "code",
      "source": [
        "columns =['number','timestamp','gas_used','gas_limit']\n",
        "df_blocks = df_blocks[columns]\n",
        "df_blocks.head()"
      ],
      "metadata": {
        "colab": {
          "base_uri": "https://localhost:8080/",
          "height": 206
        },
        "id": "eMlcHO4GA2YA",
        "outputId": "82a9715d-f239-46a6-fa22-871fcb731b38"
      },
      "execution_count": 12,
      "outputs": [
        {
          "output_type": "execute_result",
          "data": {
            "text/plain": [
              "     number   timestamp  gas_used  gas_limit\n",
              "0  14650615  1650846161   3788742   29970705\n",
              "1  14650616  1650846163  29979945   29999972\n",
              "2  14650617  1650846215  29962455   29970677\n",
              "3  14650618  1650846222  29979756   29999944\n",
              "4  14650619  1650846236  23281823   30000000"
            ],
            "text/html": [
              "\n",
              "  <div id=\"df-437366ee-8efc-4438-8fad-42e7d38b92cd\">\n",
              "    <div class=\"colab-df-container\">\n",
              "      <div>\n",
              "<style scoped>\n",
              "    .dataframe tbody tr th:only-of-type {\n",
              "        vertical-align: middle;\n",
              "    }\n",
              "\n",
              "    .dataframe tbody tr th {\n",
              "        vertical-align: top;\n",
              "    }\n",
              "\n",
              "    .dataframe thead th {\n",
              "        text-align: right;\n",
              "    }\n",
              "</style>\n",
              "<table border=\"1\" class=\"dataframe\">\n",
              "  <thead>\n",
              "    <tr style=\"text-align: right;\">\n",
              "      <th></th>\n",
              "      <th>number</th>\n",
              "      <th>timestamp</th>\n",
              "      <th>gas_used</th>\n",
              "      <th>gas_limit</th>\n",
              "    </tr>\n",
              "  </thead>\n",
              "  <tbody>\n",
              "    <tr>\n",
              "      <th>0</th>\n",
              "      <td>14650615</td>\n",
              "      <td>1650846161</td>\n",
              "      <td>3788742</td>\n",
              "      <td>29970705</td>\n",
              "    </tr>\n",
              "    <tr>\n",
              "      <th>1</th>\n",
              "      <td>14650616</td>\n",
              "      <td>1650846163</td>\n",
              "      <td>29979945</td>\n",
              "      <td>29999972</td>\n",
              "    </tr>\n",
              "    <tr>\n",
              "      <th>2</th>\n",
              "      <td>14650617</td>\n",
              "      <td>1650846215</td>\n",
              "      <td>29962455</td>\n",
              "      <td>29970677</td>\n",
              "    </tr>\n",
              "    <tr>\n",
              "      <th>3</th>\n",
              "      <td>14650618</td>\n",
              "      <td>1650846222</td>\n",
              "      <td>29979756</td>\n",
              "      <td>29999944</td>\n",
              "    </tr>\n",
              "    <tr>\n",
              "      <th>4</th>\n",
              "      <td>14650619</td>\n",
              "      <td>1650846236</td>\n",
              "      <td>23281823</td>\n",
              "      <td>30000000</td>\n",
              "    </tr>\n",
              "  </tbody>\n",
              "</table>\n",
              "</div>\n",
              "      <button class=\"colab-df-convert\" onclick=\"convertToInteractive('df-437366ee-8efc-4438-8fad-42e7d38b92cd')\"\n",
              "              title=\"Convert this dataframe to an interactive table.\"\n",
              "              style=\"display:none;\">\n",
              "        \n",
              "  <svg xmlns=\"http://www.w3.org/2000/svg\" height=\"24px\"viewBox=\"0 0 24 24\"\n",
              "       width=\"24px\">\n",
              "    <path d=\"M0 0h24v24H0V0z\" fill=\"none\"/>\n",
              "    <path d=\"M18.56 5.44l.94 2.06.94-2.06 2.06-.94-2.06-.94-.94-2.06-.94 2.06-2.06.94zm-11 1L8.5 8.5l.94-2.06 2.06-.94-2.06-.94L8.5 2.5l-.94 2.06-2.06.94zm10 10l.94 2.06.94-2.06 2.06-.94-2.06-.94-.94-2.06-.94 2.06-2.06.94z\"/><path d=\"M17.41 7.96l-1.37-1.37c-.4-.4-.92-.59-1.43-.59-.52 0-1.04.2-1.43.59L10.3 9.45l-7.72 7.72c-.78.78-.78 2.05 0 2.83L4 21.41c.39.39.9.59 1.41.59.51 0 1.02-.2 1.41-.59l7.78-7.78 2.81-2.81c.8-.78.8-2.07 0-2.86zM5.41 20L4 18.59l7.72-7.72 1.47 1.35L5.41 20z\"/>\n",
              "  </svg>\n",
              "      </button>\n",
              "      \n",
              "  <style>\n",
              "    .colab-df-container {\n",
              "      display:flex;\n",
              "      flex-wrap:wrap;\n",
              "      gap: 12px;\n",
              "    }\n",
              "\n",
              "    .colab-df-convert {\n",
              "      background-color: #E8F0FE;\n",
              "      border: none;\n",
              "      border-radius: 50%;\n",
              "      cursor: pointer;\n",
              "      display: none;\n",
              "      fill: #1967D2;\n",
              "      height: 32px;\n",
              "      padding: 0 0 0 0;\n",
              "      width: 32px;\n",
              "    }\n",
              "\n",
              "    .colab-df-convert:hover {\n",
              "      background-color: #E2EBFA;\n",
              "      box-shadow: 0px 1px 2px rgba(60, 64, 67, 0.3), 0px 1px 3px 1px rgba(60, 64, 67, 0.15);\n",
              "      fill: #174EA6;\n",
              "    }\n",
              "\n",
              "    [theme=dark] .colab-df-convert {\n",
              "      background-color: #3B4455;\n",
              "      fill: #D2E3FC;\n",
              "    }\n",
              "\n",
              "    [theme=dark] .colab-df-convert:hover {\n",
              "      background-color: #434B5C;\n",
              "      box-shadow: 0px 1px 3px 1px rgba(0, 0, 0, 0.15);\n",
              "      filter: drop-shadow(0px 1px 2px rgba(0, 0, 0, 0.3));\n",
              "      fill: #FFFFFF;\n",
              "    }\n",
              "  </style>\n",
              "\n",
              "      <script>\n",
              "        const buttonEl =\n",
              "          document.querySelector('#df-437366ee-8efc-4438-8fad-42e7d38b92cd button.colab-df-convert');\n",
              "        buttonEl.style.display =\n",
              "          google.colab.kernel.accessAllowed ? 'block' : 'none';\n",
              "\n",
              "        async function convertToInteractive(key) {\n",
              "          const element = document.querySelector('#df-437366ee-8efc-4438-8fad-42e7d38b92cd');\n",
              "          const dataTable =\n",
              "            await google.colab.kernel.invokeFunction('convertToInteractive',\n",
              "                                                     [key], {});\n",
              "          if (!dataTable) return;\n",
              "\n",
              "          const docLinkHtml = 'Like what you see? Visit the ' +\n",
              "            '<a target=\"_blank\" href=https://colab.research.google.com/notebooks/data_table.ipynb>data table notebook</a>'\n",
              "            + ' to learn more about interactive tables.';\n",
              "          element.innerHTML = '';\n",
              "          dataTable['output_type'] = 'display_data';\n",
              "          await google.colab.output.renderOutput(dataTable, element);\n",
              "          const docLink = document.createElement('div');\n",
              "          docLink.innerHTML = docLinkHtml;\n",
              "          element.appendChild(docLink);\n",
              "        }\n",
              "      </script>\n",
              "    </div>\n",
              "  </div>\n",
              "  "
            ]
          },
          "metadata": {},
          "execution_count": 12
        }
      ]
    },
    {
      "cell_type": "markdown",
      "source": [
        "## Check data information and adjust if necessary"
      ],
      "metadata": {
        "id": "Uko9yEH_BwtG"
      }
    },
    {
      "cell_type": "code",
      "source": [
        "df_blocks.dtypes"
      ],
      "metadata": {
        "colab": {
          "base_uri": "https://localhost:8080/"
        },
        "id": "TFmaSkt0CNhC",
        "outputId": "2127c7fb-23eb-4c7e-b997-d95679302616"
      },
      "execution_count": 17,
      "outputs": [
        {
          "output_type": "execute_result",
          "data": {
            "text/plain": [
              "number                int64\n",
              "timestamp    datetime64[ns]\n",
              "gas_used              int64\n",
              "gas_limit             int64\n",
              "dtype: object"
            ]
          },
          "metadata": {},
          "execution_count": 17
        }
      ]
    },
    {
      "cell_type": "code",
      "source": [
        "df_blocks.info()"
      ],
      "metadata": {
        "colab": {
          "base_uri": "https://localhost:8080/"
        },
        "id": "RZNQ-B6zBcG4",
        "outputId": "c9c11026-14db-443b-dc9e-30d298147b31"
      },
      "execution_count": 14,
      "outputs": [
        {
          "output_type": "stream",
          "name": "stdout",
          "text": [
            "<class 'pandas.core.frame.DataFrame'>\n",
            "RangeIndex: 63450 entries, 0 to 63449\n",
            "Data columns (total 4 columns):\n",
            " #   Column     Non-Null Count  Dtype\n",
            "---  ------     --------------  -----\n",
            " 0   number     63450 non-null  int64\n",
            " 1   timestamp  63450 non-null  int64\n",
            " 2   gas_used   63450 non-null  int64\n",
            " 3   gas_limit  63450 non-null  int64\n",
            "dtypes: int64(4)\n",
            "memory usage: 1.9 MB\n"
          ]
        }
      ]
    },
    {
      "cell_type": "code",
      "source": [
        "df_blocks = df_blocks.select_dtypes(\n",
        "    exclude=['object']).sort_values(by='number')\n",
        "df_blocks['timestamp'] = pd.to_datetime(df_blocks['timestamp'], unit='s')\n",
        "df_blocks.head()"
      ],
      "metadata": {
        "colab": {
          "base_uri": "https://localhost:8080/",
          "height": 206
        },
        "id": "OdgffX7UBhjZ",
        "outputId": "fec009e3-31bf-4b9c-e074-877f9d2c67c8"
      },
      "execution_count": 16,
      "outputs": [
        {
          "output_type": "execute_result",
          "data": {
            "text/plain": [
              "       number           timestamp  gas_used  gas_limit\n",
              "100  14650515 2022-04-25 00:00:04         0   30000000\n",
              "101  14650516 2022-04-25 00:00:07   3067277   29970705\n",
              "102  14650517 2022-04-25 00:00:09  29927116   29941438\n",
              "103  14650518 2022-04-25 00:00:35  29951281   29970676\n",
              "104  14650519 2022-04-25 00:00:38  15598681   29999943"
            ],
            "text/html": [
              "\n",
              "  <div id=\"df-cbf9b98e-19e7-4680-9ac4-c735a98089a9\">\n",
              "    <div class=\"colab-df-container\">\n",
              "      <div>\n",
              "<style scoped>\n",
              "    .dataframe tbody tr th:only-of-type {\n",
              "        vertical-align: middle;\n",
              "    }\n",
              "\n",
              "    .dataframe tbody tr th {\n",
              "        vertical-align: top;\n",
              "    }\n",
              "\n",
              "    .dataframe thead th {\n",
              "        text-align: right;\n",
              "    }\n",
              "</style>\n",
              "<table border=\"1\" class=\"dataframe\">\n",
              "  <thead>\n",
              "    <tr style=\"text-align: right;\">\n",
              "      <th></th>\n",
              "      <th>number</th>\n",
              "      <th>timestamp</th>\n",
              "      <th>gas_used</th>\n",
              "      <th>gas_limit</th>\n",
              "    </tr>\n",
              "  </thead>\n",
              "  <tbody>\n",
              "    <tr>\n",
              "      <th>100</th>\n",
              "      <td>14650515</td>\n",
              "      <td>2022-04-25 00:00:04</td>\n",
              "      <td>0</td>\n",
              "      <td>30000000</td>\n",
              "    </tr>\n",
              "    <tr>\n",
              "      <th>101</th>\n",
              "      <td>14650516</td>\n",
              "      <td>2022-04-25 00:00:07</td>\n",
              "      <td>3067277</td>\n",
              "      <td>29970705</td>\n",
              "    </tr>\n",
              "    <tr>\n",
              "      <th>102</th>\n",
              "      <td>14650517</td>\n",
              "      <td>2022-04-25 00:00:09</td>\n",
              "      <td>29927116</td>\n",
              "      <td>29941438</td>\n",
              "    </tr>\n",
              "    <tr>\n",
              "      <th>103</th>\n",
              "      <td>14650518</td>\n",
              "      <td>2022-04-25 00:00:35</td>\n",
              "      <td>29951281</td>\n",
              "      <td>29970676</td>\n",
              "    </tr>\n",
              "    <tr>\n",
              "      <th>104</th>\n",
              "      <td>14650519</td>\n",
              "      <td>2022-04-25 00:00:38</td>\n",
              "      <td>15598681</td>\n",
              "      <td>29999943</td>\n",
              "    </tr>\n",
              "  </tbody>\n",
              "</table>\n",
              "</div>\n",
              "      <button class=\"colab-df-convert\" onclick=\"convertToInteractive('df-cbf9b98e-19e7-4680-9ac4-c735a98089a9')\"\n",
              "              title=\"Convert this dataframe to an interactive table.\"\n",
              "              style=\"display:none;\">\n",
              "        \n",
              "  <svg xmlns=\"http://www.w3.org/2000/svg\" height=\"24px\"viewBox=\"0 0 24 24\"\n",
              "       width=\"24px\">\n",
              "    <path d=\"M0 0h24v24H0V0z\" fill=\"none\"/>\n",
              "    <path d=\"M18.56 5.44l.94 2.06.94-2.06 2.06-.94-2.06-.94-.94-2.06-.94 2.06-2.06.94zm-11 1L8.5 8.5l.94-2.06 2.06-.94-2.06-.94L8.5 2.5l-.94 2.06-2.06.94zm10 10l.94 2.06.94-2.06 2.06-.94-2.06-.94-.94-2.06-.94 2.06-2.06.94z\"/><path d=\"M17.41 7.96l-1.37-1.37c-.4-.4-.92-.59-1.43-.59-.52 0-1.04.2-1.43.59L10.3 9.45l-7.72 7.72c-.78.78-.78 2.05 0 2.83L4 21.41c.39.39.9.59 1.41.59.51 0 1.02-.2 1.41-.59l7.78-7.78 2.81-2.81c.8-.78.8-2.07 0-2.86zM5.41 20L4 18.59l7.72-7.72 1.47 1.35L5.41 20z\"/>\n",
              "  </svg>\n",
              "      </button>\n",
              "      \n",
              "  <style>\n",
              "    .colab-df-container {\n",
              "      display:flex;\n",
              "      flex-wrap:wrap;\n",
              "      gap: 12px;\n",
              "    }\n",
              "\n",
              "    .colab-df-convert {\n",
              "      background-color: #E8F0FE;\n",
              "      border: none;\n",
              "      border-radius: 50%;\n",
              "      cursor: pointer;\n",
              "      display: none;\n",
              "      fill: #1967D2;\n",
              "      height: 32px;\n",
              "      padding: 0 0 0 0;\n",
              "      width: 32px;\n",
              "    }\n",
              "\n",
              "    .colab-df-convert:hover {\n",
              "      background-color: #E2EBFA;\n",
              "      box-shadow: 0px 1px 2px rgba(60, 64, 67, 0.3), 0px 1px 3px 1px rgba(60, 64, 67, 0.15);\n",
              "      fill: #174EA6;\n",
              "    }\n",
              "\n",
              "    [theme=dark] .colab-df-convert {\n",
              "      background-color: #3B4455;\n",
              "      fill: #D2E3FC;\n",
              "    }\n",
              "\n",
              "    [theme=dark] .colab-df-convert:hover {\n",
              "      background-color: #434B5C;\n",
              "      box-shadow: 0px 1px 3px 1px rgba(0, 0, 0, 0.15);\n",
              "      filter: drop-shadow(0px 1px 2px rgba(0, 0, 0, 0.3));\n",
              "      fill: #FFFFFF;\n",
              "    }\n",
              "  </style>\n",
              "\n",
              "      <script>\n",
              "        const buttonEl =\n",
              "          document.querySelector('#df-cbf9b98e-19e7-4680-9ac4-c735a98089a9 button.colab-df-convert');\n",
              "        buttonEl.style.display =\n",
              "          google.colab.kernel.accessAllowed ? 'block' : 'none';\n",
              "\n",
              "        async function convertToInteractive(key) {\n",
              "          const element = document.querySelector('#df-cbf9b98e-19e7-4680-9ac4-c735a98089a9');\n",
              "          const dataTable =\n",
              "            await google.colab.kernel.invokeFunction('convertToInteractive',\n",
              "                                                     [key], {});\n",
              "          if (!dataTable) return;\n",
              "\n",
              "          const docLinkHtml = 'Like what you see? Visit the ' +\n",
              "            '<a target=\"_blank\" href=https://colab.research.google.com/notebooks/data_table.ipynb>data table notebook</a>'\n",
              "            + ' to learn more about interactive tables.';\n",
              "          element.innerHTML = '';\n",
              "          dataTable['output_type'] = 'display_data';\n",
              "          await google.colab.output.renderOutput(dataTable, element);\n",
              "          const docLink = document.createElement('div');\n",
              "          docLink.innerHTML = docLinkHtml;\n",
              "          element.appendChild(docLink);\n",
              "        }\n",
              "      </script>\n",
              "    </div>\n",
              "  </div>\n",
              "  "
            ]
          },
          "metadata": {},
          "execution_count": 16
        }
      ]
    },
    {
      "cell_type": "code",
      "source": [
        "df_blocks.to_csv(\"queried_data.csv\")"
      ],
      "metadata": {
        "id": "lDtbUMFvB_GM"
      },
      "execution_count": 18,
      "outputs": []
    },
    {
      "cell_type": "markdown",
      "source": [
        "## 4.3. Data Storage Solutions\n",
        "\n",
        "\n"
      ],
      "metadata": {
        "id": "0WviNbr3Cbrq"
      }
    },
    {
      "cell_type": "markdown",
      "source": [
        "### 4.3.1. Save Directly to GitHub\n"
      ],
      "metadata": {
        "id": "kt8ndRAcCkq6"
      }
    },
    {
      "cell_type": "markdown",
      "source": [
        "### 4.3.2. Keep the Data in Google Drive Folder and Proceed to Data Processing and Analyzing"
      ],
      "metadata": {
        "id": "RQTQObyMCo4i"
      }
    },
    {
      "cell_type": "markdown",
      "source": [
        "### 4.3.3 Save the Data as a Kaggle Dataset and then Import from Kaggle"
      ],
      "metadata": {
        "id": "uKREecF7Cwxf"
      }
    },
    {
      "cell_type": "markdown",
      "source": [
        "*instructions*: \n",
        "\n",
        "https://www.analyticsvidhya.com/blog/2021/06/how-to-load-kaggle-datasets-directly-into-google-colab/\n"
      ],
      "metadata": {
        "id": "1XRql4hKDSCJ"
      }
    },
    {
      "cell_type": "markdown",
      "source": [
        "### 4.3.4 Save the Data as a .pkl file to reduce size and save on Github"
      ],
      "metadata": {
        "id": "wjtygvK0C3oU"
      }
    },
    {
      "cell_type": "code",
      "source": [
        "df_blocks.to_pickle('queried_data.pkl')"
      ],
      "metadata": {
        "id": "R7nN7UibDWD0"
      },
      "execution_count": 19,
      "outputs": []
    },
    {
      "cell_type": "markdown",
      "source": [
        "Notes: \n",
        "\n",
        "\n",
        "*   You can't directly import the data from GitHub. You must import from a (Google drive) project folder which is the current working directory\n",
        "*   The Python version that generated the .pkl file might need to be the same as the Python for data importing\n",
        "\n"
      ],
      "metadata": {
        "id": "5Rbp0QbxDhA2"
      }
    },
    {
      "cell_type": "code",
      "source": [
        "df_blocks =pd.read_pickle('queried_data.pkl')\n",
        "df_blocks.head()"
      ],
      "metadata": {
        "colab": {
          "base_uri": "https://localhost:8080/",
          "height": 206
        },
        "id": "jFXj355_DfgV",
        "outputId": "72e12598-ecd8-44e6-e08e-794d434bcf19"
      },
      "execution_count": 20,
      "outputs": [
        {
          "output_type": "execute_result",
          "data": {
            "text/plain": [
              "       number           timestamp  gas_used  gas_limit\n",
              "100  14650515 2022-04-25 00:00:04         0   30000000\n",
              "101  14650516 2022-04-25 00:00:07   3067277   29970705\n",
              "102  14650517 2022-04-25 00:00:09  29927116   29941438\n",
              "103  14650518 2022-04-25 00:00:35  29951281   29970676\n",
              "104  14650519 2022-04-25 00:00:38  15598681   29999943"
            ],
            "text/html": [
              "\n",
              "  <div id=\"df-1338b770-b951-4338-b060-82597e8c6ac6\">\n",
              "    <div class=\"colab-df-container\">\n",
              "      <div>\n",
              "<style scoped>\n",
              "    .dataframe tbody tr th:only-of-type {\n",
              "        vertical-align: middle;\n",
              "    }\n",
              "\n",
              "    .dataframe tbody tr th {\n",
              "        vertical-align: top;\n",
              "    }\n",
              "\n",
              "    .dataframe thead th {\n",
              "        text-align: right;\n",
              "    }\n",
              "</style>\n",
              "<table border=\"1\" class=\"dataframe\">\n",
              "  <thead>\n",
              "    <tr style=\"text-align: right;\">\n",
              "      <th></th>\n",
              "      <th>number</th>\n",
              "      <th>timestamp</th>\n",
              "      <th>gas_used</th>\n",
              "      <th>gas_limit</th>\n",
              "    </tr>\n",
              "  </thead>\n",
              "  <tbody>\n",
              "    <tr>\n",
              "      <th>100</th>\n",
              "      <td>14650515</td>\n",
              "      <td>2022-04-25 00:00:04</td>\n",
              "      <td>0</td>\n",
              "      <td>30000000</td>\n",
              "    </tr>\n",
              "    <tr>\n",
              "      <th>101</th>\n",
              "      <td>14650516</td>\n",
              "      <td>2022-04-25 00:00:07</td>\n",
              "      <td>3067277</td>\n",
              "      <td>29970705</td>\n",
              "    </tr>\n",
              "    <tr>\n",
              "      <th>102</th>\n",
              "      <td>14650517</td>\n",
              "      <td>2022-04-25 00:00:09</td>\n",
              "      <td>29927116</td>\n",
              "      <td>29941438</td>\n",
              "    </tr>\n",
              "    <tr>\n",
              "      <th>103</th>\n",
              "      <td>14650518</td>\n",
              "      <td>2022-04-25 00:00:35</td>\n",
              "      <td>29951281</td>\n",
              "      <td>29970676</td>\n",
              "    </tr>\n",
              "    <tr>\n",
              "      <th>104</th>\n",
              "      <td>14650519</td>\n",
              "      <td>2022-04-25 00:00:38</td>\n",
              "      <td>15598681</td>\n",
              "      <td>29999943</td>\n",
              "    </tr>\n",
              "  </tbody>\n",
              "</table>\n",
              "</div>\n",
              "      <button class=\"colab-df-convert\" onclick=\"convertToInteractive('df-1338b770-b951-4338-b060-82597e8c6ac6')\"\n",
              "              title=\"Convert this dataframe to an interactive table.\"\n",
              "              style=\"display:none;\">\n",
              "        \n",
              "  <svg xmlns=\"http://www.w3.org/2000/svg\" height=\"24px\"viewBox=\"0 0 24 24\"\n",
              "       width=\"24px\">\n",
              "    <path d=\"M0 0h24v24H0V0z\" fill=\"none\"/>\n",
              "    <path d=\"M18.56 5.44l.94 2.06.94-2.06 2.06-.94-2.06-.94-.94-2.06-.94 2.06-2.06.94zm-11 1L8.5 8.5l.94-2.06 2.06-.94-2.06-.94L8.5 2.5l-.94 2.06-2.06.94zm10 10l.94 2.06.94-2.06 2.06-.94-2.06-.94-.94-2.06-.94 2.06-2.06.94z\"/><path d=\"M17.41 7.96l-1.37-1.37c-.4-.4-.92-.59-1.43-.59-.52 0-1.04.2-1.43.59L10.3 9.45l-7.72 7.72c-.78.78-.78 2.05 0 2.83L4 21.41c.39.39.9.59 1.41.59.51 0 1.02-.2 1.41-.59l7.78-7.78 2.81-2.81c.8-.78.8-2.07 0-2.86zM5.41 20L4 18.59l7.72-7.72 1.47 1.35L5.41 20z\"/>\n",
              "  </svg>\n",
              "      </button>\n",
              "      \n",
              "  <style>\n",
              "    .colab-df-container {\n",
              "      display:flex;\n",
              "      flex-wrap:wrap;\n",
              "      gap: 12px;\n",
              "    }\n",
              "\n",
              "    .colab-df-convert {\n",
              "      background-color: #E8F0FE;\n",
              "      border: none;\n",
              "      border-radius: 50%;\n",
              "      cursor: pointer;\n",
              "      display: none;\n",
              "      fill: #1967D2;\n",
              "      height: 32px;\n",
              "      padding: 0 0 0 0;\n",
              "      width: 32px;\n",
              "    }\n",
              "\n",
              "    .colab-df-convert:hover {\n",
              "      background-color: #E2EBFA;\n",
              "      box-shadow: 0px 1px 2px rgba(60, 64, 67, 0.3), 0px 1px 3px 1px rgba(60, 64, 67, 0.15);\n",
              "      fill: #174EA6;\n",
              "    }\n",
              "\n",
              "    [theme=dark] .colab-df-convert {\n",
              "      background-color: #3B4455;\n",
              "      fill: #D2E3FC;\n",
              "    }\n",
              "\n",
              "    [theme=dark] .colab-df-convert:hover {\n",
              "      background-color: #434B5C;\n",
              "      box-shadow: 0px 1px 3px 1px rgba(0, 0, 0, 0.15);\n",
              "      filter: drop-shadow(0px 1px 2px rgba(0, 0, 0, 0.3));\n",
              "      fill: #FFFFFF;\n",
              "    }\n",
              "  </style>\n",
              "\n",
              "      <script>\n",
              "        const buttonEl =\n",
              "          document.querySelector('#df-1338b770-b951-4338-b060-82597e8c6ac6 button.colab-df-convert');\n",
              "        buttonEl.style.display =\n",
              "          google.colab.kernel.accessAllowed ? 'block' : 'none';\n",
              "\n",
              "        async function convertToInteractive(key) {\n",
              "          const element = document.querySelector('#df-1338b770-b951-4338-b060-82597e8c6ac6');\n",
              "          const dataTable =\n",
              "            await google.colab.kernel.invokeFunction('convertToInteractive',\n",
              "                                                     [key], {});\n",
              "          if (!dataTable) return;\n",
              "\n",
              "          const docLinkHtml = 'Like what you see? Visit the ' +\n",
              "            '<a target=\"_blank\" href=https://colab.research.google.com/notebooks/data_table.ipynb>data table notebook</a>'\n",
              "            + ' to learn more about interactive tables.';\n",
              "          element.innerHTML = '';\n",
              "          dataTable['output_type'] = 'display_data';\n",
              "          await google.colab.output.renderOutput(dataTable, element);\n",
              "          const docLink = document.createElement('div');\n",
              "          docLink.innerHTML = docLinkHtml;\n",
              "          element.appendChild(docLink);\n",
              "        }\n",
              "      </script>\n",
              "    </div>\n",
              "  </div>\n",
              "  "
            ]
          },
          "metadata": {},
          "execution_count": 20
        }
      ]
    }
  ]
}